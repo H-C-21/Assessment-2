{
  "cells": [
    {
      "cell_type": "markdown",
      "metadata": {
        "id": "view-in-github",
        "colab_type": "text"
      },
      "source": [
        "<a href=\"https://colab.research.google.com/github/H-C-21/Assessment-2/blob/main/Copy_of_Harshit_(Random_Experimentation).ipynb\" target=\"_parent\"><img src=\"https://colab.research.google.com/assets/colab-badge.svg\" alt=\"Open In Colab\"/></a>"
      ]
    },
    {
      "cell_type": "code",
      "execution_count": null,
      "metadata": {
        "id": "F3xk4NOKffS4"
      },
      "outputs": [],
      "source": [
        "!pip install deeplake"
      ]
    },
    {
      "cell_type": "code",
      "execution_count": 2,
      "metadata": {
        "id": "SYicRcOfakyP"
      },
      "outputs": [],
      "source": [
        "import numpy as np\n",
        "import os\n",
        "import torch\n",
        "import csv\n",
        "import torch.nn as nn\n",
        "import torch.nn.functional as F\n",
        "from torch.utils.data import DataLoader,TensorDataset\n",
        "from sklearn.model_selection import train_test_split\n",
        "import torchvision\n",
        "import torchvision.transforms as T\n",
        "\n",
        "\n",
        "from torchvision import datasets, transforms, models"
      ]
    },
    {
      "cell_type": "code",
      "execution_count": 53,
      "metadata": {
        "colab": {
          "base_uri": "https://localhost:8080/"
        },
        "id": "sYMAQzgk-Af9",
        "outputId": "7692cd15-742c-4118-c287-437f06bbca32"
      },
      "outputs": [
        {
          "output_type": "stream",
          "name": "stdout",
          "text": [
            "Drive already mounted at /content/drive; to attempt to forcibly remount, call drive.mount(\"/content/drive\", force_remount=True).\n"
          ]
        }
      ],
      "source": [
        "from google.colab import drive\n",
        "drive.mount('/content/drive')"
      ]
    },
    {
      "cell_type": "code",
      "execution_count": 54,
      "metadata": {
        "id": "OeFfQaqI_szM",
        "colab": {
          "base_uri": "https://localhost:8080/"
        },
        "outputId": "576b0dc8-bb45-4a4e-89d4-47fe0bcc16fb"
      },
      "outputs": [
        {
          "output_type": "execute_result",
          "data": {
            "text/plain": [
              "['Results', 'Code', 'Model', 'Dataset']"
            ]
          },
          "metadata": {},
          "execution_count": 54
        }
      ],
      "source": [
        "url='/content/drive/MyDrive/BTP/'\n",
        "files = os.listdir(url)\n",
        "files"
      ]
    },
    {
      "cell_type": "code",
      "execution_count": 5,
      "metadata": {
        "colab": {
          "base_uri": "https://localhost:8080/"
        },
        "id": "1dynDlkqAarF",
        "outputId": "c5524c0f-89bd-4566-fe28-8d0c94f0be40"
      },
      "outputs": [
        {
          "output_type": "execute_result",
          "data": {
            "text/plain": [
              "device(type='cpu')"
            ]
          },
          "metadata": {},
          "execution_count": 5
        }
      ],
      "source": [
        "# use GPU if available\n",
        "device = torch.device('cuda:0' if torch.cuda.is_available() else 'cpu')\n",
        "device"
      ]
    },
    {
      "cell_type": "code",
      "execution_count": 33,
      "metadata": {
        "id": "NBGnWtPofj2L",
        "colab": {
          "base_uri": "https://localhost:8080/"
        },
        "outputId": "be9f355b-51b5-45ea-8d41-4061f8817803"
      },
      "outputs": [
        {
          "output_type": "stream",
          "name": "stderr",
          "text": [
            "\\"
          ]
        },
        {
          "output_type": "stream",
          "name": "stdout",
          "text": [
            "Opening dataset in read-only mode as you don't have write permissions.\n"
          ]
        },
        {
          "output_type": "stream",
          "name": "stderr",
          "text": [
            "\\"
          ]
        },
        {
          "output_type": "stream",
          "name": "stdout",
          "text": [
            "This dataset can be visualized in Jupyter Notebook by ds.visualize() or at https://app.activeloop.ai/activeloop/chest-xray-train\n",
            "\n"
          ]
        },
        {
          "output_type": "stream",
          "name": "stderr",
          "text": [
            "/"
          ]
        },
        {
          "output_type": "stream",
          "name": "stdout",
          "text": [
            "hub://activeloop/chest-xray-train loaded successfully.\n",
            "\n"
          ]
        },
        {
          "output_type": "stream",
          "name": "stderr",
          "text": [
            "-"
          ]
        },
        {
          "output_type": "stream",
          "name": "stdout",
          "text": [
            "Opening dataset in read-only mode as you don't have write permissions.\n"
          ]
        },
        {
          "output_type": "stream",
          "name": "stderr",
          "text": [
            "-"
          ]
        },
        {
          "output_type": "stream",
          "name": "stdout",
          "text": [
            "This dataset can be visualized in Jupyter Notebook by ds.visualize() or at https://app.activeloop.ai/activeloop/chest-xray-test\n",
            "\n"
          ]
        },
        {
          "output_type": "stream",
          "name": "stderr",
          "text": [
            "/"
          ]
        },
        {
          "output_type": "stream",
          "name": "stdout",
          "text": [
            "hub://activeloop/chest-xray-test loaded successfully.\n",
            "\n"
          ]
        },
        {
          "output_type": "stream",
          "name": "stderr",
          "text": [
            "\r \r\r\r"
          ]
        }
      ],
      "source": [
        "import deeplake\n",
        "ds = deeplake.load('hub://activeloop/chest-xray-train')\n",
        "ds_test = deeplake.load('hub://activeloop/chest-xray-test')"
      ]
    },
    {
      "cell_type": "code",
      "execution_count": 78,
      "metadata": {
        "id": "UZ3Z2NvAfxtU",
        "colab": {
          "base_uri": "https://localhost:8080/"
        },
        "outputId": "7915c559-d066-4d30-aa19-e9bed16335b4"
      },
      "outputs": [
        {
          "output_type": "stream",
          "name": "stdout",
          "text": [
            "Dataset(path='hub://activeloop/chest-xray-train', read_only=True, tensors=['images', 'labels', 'person_num'])\n",
            "\n",
            "   tensor       htype                  shape                dtype  compression\n",
            "  -------      -------                -------              -------  ------- \n",
            "   images       image     (5216, 127:2663, 384:2916, 1:3)   uint8     png   \n",
            "   labels    class_label             (5216, 1)             uint32    None   \n",
            " person_num    generic              (5216, 0:1)             int32    None   \n"
          ]
        }
      ],
      "source": [
        "ds.summary()"
      ]
    },
    {
      "cell_type": "code",
      "execution_count": null,
      "metadata": {
        "id": "ciSiB7ndWm15"
      },
      "outputs": [],
      "source": [
        "ds_test.summary()"
      ]
    },
    {
      "cell_type": "code",
      "execution_count": 80,
      "metadata": {
        "id": "EOUipdrfYbKy",
        "colab": {
          "base_uri": "https://localhost:8080/"
        },
        "outputId": "4eeeb6a1-cb7c-4e88-b394-70c4a6db45be"
      },
      "outputs": [
        {
          "output_type": "stream",
          "name": "stderr",
          "text": [
            "/usr/local/lib/python3.10/dist-packages/deeplake/integrations/pytorch/common.py:137: UserWarning: Decode method for tensors ['images'] is defaulting to numpy. Please consider specifying a decode_method in .pytorch() that maximizes the data preprocessing speed based on your transformation.\n",
            "  warnings.warn(\n",
            "Please wait, filling up the shuffle buffer with samples.:   0%|          | 0.00/1.91G [58:57<?, ?B/s]\n"
          ]
        }
      ],
      "source": [
        "tform = transforms.Compose([\n",
        "    transforms.ToPILImage(), # Must convert to PIL image for subsequent operations to run\n",
        "    # transforms.ToTensor(),\n",
        "    transforms.Grayscale(num_output_channels=3),\n",
        "    transforms.Resize((224, 224)),\n",
        "    transforms.ToTensor(), # Must convert to pytorch tensor for subsequent operations to run\n",
        "    transforms.Normalize([0.5, 0.5, 0.5], [0.5, 0.5, 0.5]),\n",
        "\n",
        "])\n",
        "#PyTorch Dataloader\n",
        "dataloader= ds.pytorch(batch_size = 1, num_workers = 2,\n",
        "    transform = {'images': tform, 'labels': None}, shuffle = False)\n",
        "\n",
        "dataloader_test = ds_test.pytorch(batch_size = 32, num_workers = 2,\n",
        "    transform = {'images': tform, 'labels': None}, shuffle = False)\n",
        "\n",
        "\n",
        "\n",
        "# dataloader = ds.pytorch(num_workers=0, batch_size=32, shuffle=False)"
      ]
    },
    {
      "cell_type": "code",
      "execution_count": 81,
      "metadata": {
        "colab": {
          "base_uri": "https://localhost:8080/"
        },
        "id": "_bcNGY7Fc_OQ",
        "outputId": "9a954e7d-0bcb-459e-ca03-574f8c37ee89"
      },
      "outputs": [
        {
          "output_type": "execute_result",
          "data": {
            "text/plain": [
              "(torch.Size([3, 224, 224]), tensor([0]))"
            ]
          },
          "metadata": {},
          "execution_count": 81
        }
      ],
      "source": [
        "# Get a batch of images\n",
        "image_batch, label_batch = next(iter(dataloader))\n",
        "\n",
        "# Get a single image from the batch\n",
        "image, label = image_batch[0], label_batch[0]\n",
        "\n",
        "# View the batch shapes\n",
        "image.shape, label\n",
        "\n"
      ]
    },
    {
      "cell_type": "code",
      "source": [
        "trainData=np.load(url+'Dataset/Chest-XRay-TrainLabel.npy')\n",
        "trainData.shape"
      ],
      "metadata": {
        "colab": {
          "base_uri": "https://localhost:8080/"
        },
        "id": "mZlSZ7yx-x5L",
        "outputId": "eda699c4-82d5-4a07-f087-19a7aeb002d8"
      },
      "execution_count": 82,
      "outputs": [
        {
          "output_type": "execute_result",
          "data": {
            "text/plain": [
              "(783, 1)"
            ]
          },
          "metadata": {},
          "execution_count": 82
        }
      ]
    },
    {
      "cell_type": "code",
      "source": [
        "def export_dataloader_to_npy(dataloader, save_path, save_path2):\n",
        "    data_arrays = []\n",
        "    label_arrays = []\n",
        "    for batch in dataloader:\n",
        "        # Convert batch to numpy array\n",
        "        numpy_array = batch['images'].numpy()\n",
        "        label_array = batch['labels'].numpy()\n",
        "        data_arrays.append(numpy_array)\n",
        "        label_arrays.append(label_array)\n",
        "\n",
        "    # Concatenate arrays along the batch dimension\n",
        "    data = np.concatenate(data_arrays, axis=0)\n",
        "    dataLabel = np.concatenate(label_arrays,axis = 0)\n",
        "    # Save the data to .npy file\n",
        "    np.save(save_path, data)\n",
        "    np.save(save_path2,dataLabel)\n",
        "\n",
        "# Example usage:\n",
        "# Assuming dataloader is your PyTorch DataLoader instance\n",
        "# and save_path is the path where you want to save the data\n",
        "# export_dataloader_to_npy(dataloader, \"data.npy\")\n",
        "\n",
        "# export_dataloader_to_npy(dataloader_test, url+'Dataset/Chest-XRay-TestData.npy',url +'Dataset/Chest-XRay-TestLabel.npy')\n",
        "export_dataloader_to_npy(dataloader,url+'Dataset/Chest-XRay-TrainData.npy', url+'Dataset/Chest-XRay-TrainLabel.npy')"
      ],
      "metadata": {
        "colab": {
          "base_uri": "https://localhost:8080/"
        },
        "id": "MrpkXQxntgbX",
        "outputId": "c4d2d743-63a2-41f3-af5d-dab753392dd8"
      },
      "execution_count": 84,
      "outputs": [
        {
          "output_type": "stream",
          "name": "stderr",
          "text": [
            "/usr/local/lib/python3.10/dist-packages/deeplake/integrations/pytorch/common.py:137: UserWarning: Decode method for tensors ['images'] is defaulting to numpy. Please consider specifying a decode_method in .pytorch() that maximizes the data preprocessing speed based on your transformation.\n",
            "  warnings.warn(\n",
            "/usr/local/lib/python3.10/dist-packages/deeplake/integrations/pytorch/common.py:137: UserWarning: Decode method for tensors ['images'] is defaulting to numpy. Please consider specifying a decode_method in .pytorch() that maximizes the data preprocessing speed based on your transformation.\n",
            "  warnings.warn(\n"
          ]
        }
      ]
    },
    {
      "cell_type": "code",
      "execution_count": 60,
      "metadata": {
        "id": "bDwrFzuMmiyJ",
        "colab": {
          "base_uri": "https://localhost:8080/",
          "height": 463
        },
        "outputId": "31d49f91-88c9-4d82-e73a-39e17f59c43f"
      },
      "outputs": [
        {
          "output_type": "stream",
          "name": "stderr",
          "text": [
            "WARNING:matplotlib.image:Clipping input data to the valid range for imshow with RGB data ([0..1] for floats or [0..255] for integers).\n"
          ]
        },
        {
          "output_type": "stream",
          "name": "stdout",
          "text": [
            "torch.Size([3, 224, 224])\n"
          ]
        },
        {
          "output_type": "display_data",
          "data": {
            "text/plain": [
              "<Figure size 640x480 with 1 Axes>"
            ],
            "image/png": "[encoded data removed]"
          },
          "metadata": {}
        }
      ],
      "source": [
        "import matplotlib.pyplot as plt\n",
        "class_names = [\"Normal\",\"Bacterial\",\"Viral\"]\n",
        "plt.imshow(image.permute(1, 2, 0)) # rearrange image dimensions to suit matplotlib [color_channels, height, width] -> [height, width, color_channels]\n",
        "plt.title(class_names[label])\n",
        "plt.axis(False);\n",
        "\n",
        "print(image.shape)"
      ]
    },
    {
      "cell_type": "code",
      "execution_count": 65,
      "metadata": {
        "id": "aqKa8wakr_Vb",
        "colab": {
          "base_uri": "https://localhost:8080/"
        },
        "outputId": "a7124cc8-bc73-4217-e0ee-3591a78e6208"
      },
      "outputs": [
        {
          "output_type": "stream",
          "name": "stdout",
          "text": [
            "cpu\n"
          ]
        }
      ],
      "source": [
        "pretrained = True\n",
        "print(device)\n",
        "\n",
        "epoch=0\n",
        "numepochs = 100"
      ]
    },
    {
      "cell_type": "code",
      "source": [
        "modelNames=['vgg16','vgg19','resnet18','alexnet','googlenet','densenet121','efficientnet_b0','mnasnet1_0','mobilenet_v2','mobilenet_v3_small','shufflenet_v2_x0_5']\n",
        "pretrained=True\n",
        "output=3"
      ],
      "metadata": {
        "id": "_oy2mJur9Ycm"
      },
      "execution_count": 62,
      "outputs": []
    },
    {
      "cell_type": "code",
      "source": [
        "files = os.listdir(url+\"Model/\")\n",
        "if len(files) == 0:\n",
        "    print('Directory is empty')\n",
        "    temp=0\n",
        "else:\n",
        "    if f\"{modelNames[0]}.pth\" in files:\n",
        "      temp = 1\n",
        "      print(\"Found Checkpoint for Current Model\")\n",
        "\n"
      ],
      "metadata": {
        "id": "p6sFyTnoUUIo"
      },
      "execution_count": 63,
      "outputs": []
    },
    {
      "cell_type": "code",
      "source": [
        "model = torchvision.models.densenet121(pretrained)\n",
        "model.classifier2 = nn.Linear(1024,output)"
      ],
      "metadata": {
        "id": "a4f10lqDIyDC"
      },
      "execution_count": null,
      "outputs": []
    },
    {
      "cell_type": "code",
      "source": [
        "model.features"
      ],
      "metadata": {
        "id": "RDGrEJrLIzHo"
      },
      "execution_count": null,
      "outputs": []
    },
    {
      "cell_type": "code",
      "execution_count": null,
      "metadata": {
        "id": "UGyzQsHMqxnz"
      },
      "outputs": [],
      "source": [
        "for i in range(1,11):\n",
        "  modelName=modelNames[i]\n",
        "  print(modelName)\n",
        "  if modelName=='vgg16':\n",
        "    model = torchvision.models.vgg16(pretrained)\n",
        "    model.classifier[6] = nn.Linear(4096,output)\n",
        "  elif modelName=='resnet18':\n",
        "    model = torchvision.models.resnet18(pretrained)\n",
        "    model.fc = nn.Linear(512,output)\n",
        "  elif modelName=='vgg19':\n",
        "    model = torchvision.models.vgg19(pretrained)\n",
        "    model.classifier[6] = nn.Linear(4096,output)\n",
        "  elif modelName=='alexnet':\n",
        "    model = torchvision.models.alexnet(pretrained)\n",
        "    model.classifier[6] = nn.Linear(4096,output)\n",
        "  elif modelName=='googlenet':\n",
        "    model = torchvision.models.googlenet(pretrained)\n",
        "    model.fc = nn.Linear(1024,output)\n",
        "  elif modelName=='densenet121':\n",
        "    model = torchvision.models.densenet121(pretrained)\n",
        "    model.classifier2 = nn.Linear(1024,output)\n",
        "  elif modelName=='efficientnet_b0':\n",
        "    model = torchvision.models.efficientnet_b0(pretrained)\n",
        "    model.classifier[1] = nn.Linear(1280,output)\n",
        "  elif modelName=='mnasnet1_0':\n",
        "    model = torchvision.models.mnasnet1_0(pretrained)\n",
        "    model.classifier[1] = nn.Linear(1280,output)\n",
        "  elif modelName=='mobilenet_v2':\n",
        "    model = torchvision.models.mobilenet_v2(pretrained)\n",
        "    model.classifier[1] = nn.Linear(1280,output)\n",
        "  elif modelName=='mobilenet_v3_small':\n",
        "    model = torchvision.models.mobilenet_v3_small(pretrained)\n",
        "    model.classifier[3] = nn.Linear(1024,output)\n",
        "  elif modelName=='shufflenet_v2_x0_5':\n",
        "    model = torchvision.models.shufflenet_v2_x0_5(pretrained)\n",
        "    model.fc = nn.Linear(1024,output)\n",
        "\n",
        "  model.to(device);\n",
        "  lossfun = nn.CrossEntropyLoss()\n",
        "  optimizer = torch.optim.SGD(model.parameters(),lr=0.001,momentum=.9)\n",
        "  epoch=0\n",
        "\n",
        "  temp=0\n",
        "\n",
        "  trainLoss = torch.zeros(numepochs)\n",
        "  testLoss  = torch.zeros(numepochs)\n",
        "\n",
        "  trainAcc  = torch.zeros(numepochs)\n",
        "  testAcc   = torch.zeros(numepochs)\n",
        "\n",
        "  dir_path = url+f\"Model/{modelName}.pth\"\n",
        "\n",
        "  files = os.listdir(url+\"Model/\")\n",
        "\n",
        "  if len(files) == 0:\n",
        "    print('Directory is empty')\n",
        "    temp=0\n",
        "  else:\n",
        "    if f\"{modelName}.pth\" in files:\n",
        "      temp =\n",
        "      print(\"Found Checkpoint for Current Model\")\n",
        "\n",
        "\n",
        "\n",
        "  if temp:\n",
        "    loaded_checkpoint = torch.load(dir_path)\n",
        "    model.load_state_dict(loaded_checkpoint['model_state_dict'])\n",
        "    epoch=loaded_checkpoint['epoch']\n",
        "    print(epoch)\n",
        "\n",
        "\n",
        "  # loop over epochs\n",
        "  if not temp:\n",
        "    with open(url+'Results/ResultsFin.csv', 'a', newline='') as csvfile:\n",
        "      # Create a writer object\n",
        "      writer = csv.writer(csvfile, delimiter=',')\n",
        "\n",
        "      # Write the column headers\n",
        "      writer.writerow(['Model','Pretrained','Epoch','TrainLoss', 'TestLoss', 'TrainAcc','TestAcc'])\n",
        "\n",
        "  for epochi in range(epoch,numepochs):\n",
        "    print(f\"Start of Epoch {epochi+1}\")\n",
        "    model.train() # switch to train mode\n",
        "    batchLoss = []\n",
        "    batchAcc  = []\n",
        "    for X,y in dataloader:\n",
        "      X = X.to(device)\n",
        "      y = y.to(device)\n",
        "      # print(y.shape)\n",
        "\n",
        "      yHat = model(X)\n",
        "      # print(yHat)\n",
        "      y = y.view(-1)\n",
        "      loss = lossfun(yHat,y)\n",
        "\n",
        "\n",
        "      optimizer.zero_grad()\n",
        "      loss.backward()\n",
        "      optimizer.step()\n",
        "\n",
        "\n",
        "      batchLoss.append(loss.item())\n",
        "\n",
        "      batchAcc.append( torch.mean((torch.argmax(yHat,axis=1) == y).float()).item() )\n",
        "\n",
        "    trainLoss[epochi] = np.mean(batchLoss)\n",
        "\n",
        "    trainAcc[epochi]  = 100*np.mean(batchAcc)\n",
        "\n",
        "\n",
        "      #### test performance (here done in batches!)\n",
        "    model.eval() # switch to test mode\n",
        "    batchAcc  = []\n",
        "    batchLoss = []\n",
        "    for X,y in dataloader_test:\n",
        "\n",
        "      X = X.to(device)\n",
        "      y = y.to(device)\n",
        "      y = y.view(-1)\n",
        "\n",
        "      print(X.shape)\n",
        "      with torch.no_grad():\n",
        "        yHat = model(X)\n",
        "        loss = lossfun(yHat,y)\n",
        "\n",
        "\n",
        "      batchLoss.append(loss.item())\n",
        "      batchAcc.append( torch.mean((torch.argmax(yHat,axis=1) == y).float()).item())\n",
        "\n",
        "    testLoss[epochi] = np.mean(batchLoss)\n",
        "    testAcc[epochi]  = 100*np.mean(batchAcc)\n",
        "\n",
        "\n",
        "    print(f'Finished epoch {epochi+1}/{numepochs}. Test accuracy = {testAcc[epochi]:.2f}%')\n",
        "    if((epochi+1)%200==0):\n",
        "        checkpoint={'model_state_dict':model.state_dict(),'epoch':epochi+1}\n",
        "        torch.save(checkpoint, dir_path)\n",
        "\n",
        "\n",
        "\n",
        "    with open(url+'Results/ResultsFin.csv', 'a', newline='') as csvfile:\n",
        "\n",
        "        writer = csv.writer(csvfile, delimiter=',')\n",
        "\n",
        "        # writer.writerow(['model','Pretrained','epchi','trainLoss', 'testLoss', 'trainAcc','testAcc'])\n",
        "        # # writer.writerow(['model',trainLoss, testLoss, trainAcc, testAcc])\n",
        "\n",
        "        trainLossn=trainLoss.numpy()\n",
        "        testLossn=testLoss.numpy()\n",
        "        trainAccn=trainAcc.numpy()\n",
        "        testAccn=testAcc.numpy()\n",
        "        i = epochi\n",
        "        writer.writerow([modelName, pretrained, i, trainLossn[i], testLossn[i], trainAccn[i], testAccn[i]])"
      ]
    },
    {
      "cell_type": "code",
      "execution_count": null,
      "metadata": {
        "id": "wRcS21QByVDk"
      },
      "outputs": [],
      "source": [
        "testAcc"
      ]
    },
    {
      "cell_type": "code",
      "execution_count": null,
      "metadata": {
        "id": "4H_OkoWjK1jH"
      },
      "outputs": [],
      "source": [
        "num_epochs = list(range(1, 16))\n",
        "plt.plot(num_epochs, testAcc, marker='o')\n",
        "plt.title('DenseNet121 - 522 TrainSet')\n",
        "plt.xlabel('Number of Epochs')\n",
        "plt.ylabel('Accuracy')\n",
        "plt.grid(True)\n",
        "plt.show()"
      ]
    },
    {
      "cell_type": "code",
      "execution_count": null,
      "metadata": {
        "id": "MuNPJaVAoIyb"
      },
      "outputs": [],
      "source": [
        "#name of the model\n",
        "modelNames=['vgg16','vgg19','resnet18','alexnet','googlenet','densenet121']\n",
        "pretrained=True\n",
        "output=3\n"
      ]
    },
    {
      "cell_type": "code",
      "source": [
        "model = torchvision.models.vgg16(pretrained)\n",
        "model.classifier[6] = nn.Linear(4096,output)\n",
        "\n"
      ],
      "metadata": {
        "colab": {
          "base_uri": "https://localhost:8080/"
        },
        "id": "w-ZmVk-EHFvW",
        "outputId": "7e522e48-c49c-4e8d-8060-4fedbc9e0b7b"
      },
      "execution_count": 69,
      "outputs": [
        {
          "output_type": "stream",
          "name": "stderr",
          "text": [
            "/usr/local/lib/python3.10/dist-packages/torchvision/models/_utils.py:135: UserWarning: Using 'weights' as positional parameter(s) is deprecated since 0.13 and may be removed in the future. Please use keyword parameter(s) instead.\n",
            "  warnings.warn(\n",
            "/usr/local/lib/python3.10/dist-packages/torchvision/models/_utils.py:223: UserWarning: Arguments other than a weight enum or `None` for 'weights' are deprecated since 0.13 and may be removed in the future. The current behavior is equivalent to passing `weights=VGG16_Weights.IMAGENET1K_V1`. You can also use `weights=VGG16_Weights.DEFAULT` to get the most up-to-date weights.\n",
            "  warnings.warn(msg)\n",
            "Downloading: \"https://download.pytorch.org/models/vgg16-397923af.pth\" to /root/.cache/torch/hub/checkpoints/vgg16-397923af.pth\n",
            "100%|██████████| 528M/528M [00:03<00:00, 160MB/s]\n"
          ]
        }
      ]
    },
    {
      "cell_type": "code",
      "source": [
        "print(model.features)\n",
        "image.shape"
      ],
      "metadata": {
        "colab": {
          "base_uri": "https://localhost:8080/"
        },
        "id": "ri9Gle6kHIvZ",
        "outputId": "f384807e-7903-4728-861a-ed1bee0ff8e3"
      },
      "execution_count": 72,
      "outputs": [
        {
          "output_type": "stream",
          "name": "stdout",
          "text": [
            "Sequential(\n",
            "  (0): Conv2d(3, 64, kernel_size=(3, 3), stride=(1, 1), padding=(1, 1))\n",
            "  (1): ReLU(inplace=True)\n",
            "  (2): Conv2d(64, 64, kernel_size=(3, 3), stride=(1, 1), padding=(1, 1))\n",
            "  (3): ReLU(inplace=True)\n",
            "  (4): MaxPool2d(kernel_size=2, stride=2, padding=0, dilation=1, ceil_mode=False)\n",
            "  (5): Conv2d(64, 128, kernel_size=(3, 3), stride=(1, 1), padding=(1, 1))\n",
            "  (6): ReLU(inplace=True)\n",
            "  (7): Conv2d(128, 128, kernel_size=(3, 3), stride=(1, 1), padding=(1, 1))\n",
            "  (8): ReLU(inplace=True)\n",
            "  (9): MaxPool2d(kernel_size=2, stride=2, padding=0, dilation=1, ceil_mode=False)\n",
            "  (10): Conv2d(128, 256, kernel_size=(3, 3), stride=(1, 1), padding=(1, 1))\n",
            "  (11): ReLU(inplace=True)\n",
            "  (12): Conv2d(256, 256, kernel_size=(3, 3), stride=(1, 1), padding=(1, 1))\n",
            "  (13): ReLU(inplace=True)\n",
            "  (14): Conv2d(256, 256, kernel_size=(3, 3), stride=(1, 1), padding=(1, 1))\n",
            "  (15): ReLU(inplace=True)\n",
            "  (16): MaxPool2d(kernel_size=2, stride=2, padding=0, dilation=1, ceil_mode=False)\n",
            "  (17): Conv2d(256, 512, kernel_size=(3, 3), stride=(1, 1), padding=(1, 1))\n",
            "  (18): ReLU(inplace=True)\n",
            "  (19): Conv2d(512, 512, kernel_size=(3, 3), stride=(1, 1), padding=(1, 1))\n",
            "  (20): ReLU(inplace=True)\n",
            "  (21): Conv2d(512, 512, kernel_size=(3, 3), stride=(1, 1), padding=(1, 1))\n",
            "  (22): ReLU(inplace=True)\n",
            "  (23): MaxPool2d(kernel_size=2, stride=2, padding=0, dilation=1, ceil_mode=False)\n",
            "  (24): Conv2d(512, 512, kernel_size=(3, 3), stride=(1, 1), padding=(1, 1))\n",
            "  (25): ReLU(inplace=True)\n",
            "  (26): Conv2d(512, 512, kernel_size=(3, 3), stride=(1, 1), padding=(1, 1))\n",
            "  (27): ReLU(inplace=True)\n",
            "  (28): Conv2d(512, 512, kernel_size=(3, 3), stride=(1, 1), padding=(1, 1))\n",
            "  (29): ReLU(inplace=True)\n",
            "  (30): MaxPool2d(kernel_size=2, stride=2, padding=0, dilation=1, ceil_mode=False)\n",
            ")\n"
          ]
        },
        {
          "output_type": "execute_result",
          "data": {
            "text/plain": [
              "torch.Size([3, 224, 224])"
            ]
          },
          "metadata": {},
          "execution_count": 72
        }
      ]
    },
    {
      "cell_type": "code",
      "execution_count": null,
      "metadata": {
        "id": "3LQuteIAocv0"
      },
      "outputs": [],
      "source": [
        "for i in range(1,10):\n",
        "  modelName=modelNames[i]\n",
        "  print(modelName)\n",
        "  if modelName=='vgg16':\n",
        "    model = torchvision.models.vgg16(pretrained)\n",
        "    model.classifier[6] = nn.Linear(4096,output)\n",
        "  elif modelName=='resnet18':\n",
        "    model = torchvision.models.resnet18(pretrained)\n",
        "    model.fc = nn.Linear(512,output)\n",
        "  elif modelName=='vgg19':\n",
        "    model = torchvision.models.vgg19(pretrained)\n",
        "    model.classifier[6] = nn.Linear(4096,output)\n",
        "  elif modelName=='alexnet':\n",
        "    model = torchvision.models.alexnet(pretrained)\n",
        "    model.classifier[6] = nn.Linear(4096,output)\n",
        "  elif modelName=='googlenet':\n",
        "    model = torchvision.models.googlenet(pretrained)\n",
        "    model.fc = nn.Linear(1024,output)\n",
        "  elif modelName=='densenet121':\n",
        "    model = torchvision.models.densenet121(pretrained)\n",
        "    model.classifier2 = nn.Linear(1024,output)\n",
        "  elif modelName=='efficientnet_b0':\n",
        "    model = torchvision.models.efficientnet_b0(pretrained)\n",
        "    model.classifier[1] = nn.Linear(1280,output)\n",
        "  elif modelName=='mnasnet1_0':\n",
        "    model = torchvision.models.mnasnet1_0(pretrained)\n",
        "    model.classifier[1] = nn.Linear(1280,output)\n",
        "  elif modelName=='mobilenet_v2':\n",
        "    model = torchvision.models.mobilenet_v2(pretrained)\n",
        "    model.classifier[1] = nn.Linear(1280,output)\n",
        "  elif modelName=='mobilenet_v3_small':\n",
        "    model = torchvision.models.mobilenet_v3_small(pretrained)\n",
        "    model.classifier[3] = nn.Linear(1024,output)\n",
        "  elif modelName=='shufflenet_v2_x0_5':\n",
        "    model = torchvision.models.shufflenet_v2_x0_5(pretrained)\n",
        "    model.fc = nn.Linear(1024,output)\n",
        "\n",
        "\n",
        "  # push the model to the GPU (if using)\n",
        "  model.to(device);\n",
        "  lossfun = nn.CrossEntropyLoss()\n",
        "  optimizer = torch.optim.SGD(model.parameters(),lr=0.001,momentum=.9)\n",
        "  epoch=0\n",
        "\n",
        "  #url='/content/drive/MyDrive/IIITS/BTP-2023/2023/B23RKS01(Sai Ramya)/'\n",
        "  # url='/media/rsrs/disk1/DrRKS/Transfer Learning/Agriculture/'\n",
        "  # dir_path = url+'Saved-Model/'\n",
        "\n",
        "  # Get a list of files and directories in the specified directory\n",
        "  # files = os.listdir(dir_path)\n",
        "\n",
        "  # Check if the directory is empty\n",
        "  # if len(files) == 0:\n",
        "  #     print('Directory is empty')\n",
        "  #     temp=0\n",
        "  # else:\n",
        "  #     print('Directory is not empty')\n",
        "  #     temp=0\n",
        "\n",
        "\n",
        "  # if temp:\n",
        "    # loaded_checkpoint = torch.load(url+'Saved-Model/my_model_checkpoint.pth')\n",
        "    # model.load_state_dict(loaded_checkpoint['model_state_dict'])\n",
        "    # epoch=loaded_checkpoint['epoch']\n",
        "    # print(epoch)\n",
        "\n",
        "  numepochs = 10\n",
        "\n",
        "  # initialize losses\n",
        "  trainLoss = torch.zeros(numepochs)\n",
        "  testLoss  = torch.zeros(numepochs)\n",
        "\n",
        "  trainAcc  = torch.zeros(numepochs)\n",
        "  testAcc   = torch.zeros(numepochs)\n",
        "\n",
        "  # loop over epochs\n",
        "  for epochi in range(epoch,numepochs):\n",
        "\n",
        "    # loop over training data batches\n",
        "    model.train() # switch to train mode\n",
        "    batchLoss = []\n",
        "    batchAcc  = []\n",
        "    for X,y in dataloader:\n",
        "\n",
        "      # push data to GPU\n",
        "      X = X.to(device)\n",
        "      y = y.to(device)\n",
        "\n",
        "      # forward pass and loss\n",
        "      yHat = model(X)\n",
        "      loss = lossfun(yHat,y)\n",
        "\n",
        "      # backprop\n",
        "      optimizer.zero_grad()\n",
        "      loss.backward()\n",
        "      optimizer.step()\n",
        "\n",
        "      # loss and accuracy from this batch\n",
        "      batchLoss.append(loss.item())\n",
        "\n",
        "      batchAcc.append( torch.mean((torch.argmax(yHat,axis=1) == y).float()).item() )\n",
        "    # end of batch loop...\n",
        "\n",
        "    # and get average losses and accuracies across the batches\n",
        "    trainLoss[epochi] = np.mean(batchLoss)\n",
        "\n",
        "    trainAcc[epochi]  = 100*np.mean(batchAcc)\n",
        "\n",
        "\n",
        "    #### test performance (here done in batches!)\n",
        "    model.eval() # switch to test mode\n",
        "    batchAcc  = []\n",
        "    batchLoss = []\n",
        "    for X,y in dataloader_test:\n",
        "\n",
        "      # push data to GPU\n",
        "      X = X.to(device)\n",
        "      y = y.to(device)\n",
        "\n",
        "      # forward pass and loss\n",
        "      with torch.no_grad():\n",
        "        yHat = model(X)\n",
        "        loss = lossfun(yHat,y)\n",
        "\n",
        "      # loss and accuracy from this batch\n",
        "      batchLoss.append(loss.item())\n",
        "      batchAcc.append( torch.mean((torch.argmax(yHat,axis=1) == y).float()).item() )\n",
        "    # end of batch loop...\n",
        "\n",
        "    # and get average losses and accuracies across the batches\n",
        "    testLoss[epochi] = np.mean(batchLoss)\n",
        "    testAcc[epochi]  = 100*np.mean(batchAcc)\n",
        "\n",
        "    # print out a status update\n",
        "    print(f'Finished epoch {epochi+1}/{numepochs}. Test accuracy = {testAcc[epochi]:.2f}%')\n",
        "    if((epochi+1)%500==0):\n",
        "      checkpoint={\n",
        "        'model_state_dict':model.state_dict(),\n",
        "        'epoch':epochi+1\n",
        "        }\n",
        "      torch.save(checkpoint, url+'Saved-Model/my_model_checkpoint.pth')\n",
        "\n",
        "\n",
        "\n",
        "\n",
        "  # Open the CSV file for writing\n",
        "  # with open(url+'Results/6_June_2023/Tomato_LHE_Vs_Potato_LHE.csv', 'a', newline='') as csvfile:\n",
        "  #     # Create a writer object\n",
        "  #     writer = csv.writer(csvfile, delimiter=',')\n",
        "\n",
        "  #     # Write the column headers\n",
        "  #     writer.writerow(['model','Pretrained','epchi','trainLoss', 'testLoss', 'trainAcc','testAcc'])\n",
        "  #     # writer.writerow(['model',trainLoss, testLoss, trainAcc, testAcc])\n",
        "\n",
        "  #     trainLossn=trainLoss.numpy()\n",
        "  #     testLossn=testLoss.numpy()\n",
        "  #     trainAccn=trainAcc.numpy()\n",
        "  #     testAccn=testAcc.numpy()\n",
        "\n",
        "\n",
        "  #     # # Write the data to the CSV file\n",
        "  #     for i in range(len(trainLossn)):\n",
        "  #         writer.writerow([modelName,pretrained, i,trainLossn[i], testLossn[i], trainAccn[i], testAccn[i]])"
      ]
    }
  ],
  "metadata": {
    "colab": {
      "provenance": [],
      "gpuType": "T4",
      "include_colab_link": true
    },
    "kernelspec": {
      "display_name": "Python 3",
      "name": "python3"
    },
    "language_info": {
      "name": "python"
    },
    "accelerator": "GPU"
  },
  "nbformat": 4,
  "nbformat_minor": 0
}